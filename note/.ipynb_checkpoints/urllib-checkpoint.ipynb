{
 "cells": [
  {
   "cell_type": "markdown",
   "id": "3ce7171d",
   "metadata": {},
   "source": [
    "# <center> urllib 网页爬取 </center>"
   ]
  },
  {
   "cell_type": "markdown",
   "id": "aa76370e",
   "metadata": {},
   "source": [
    "## 1. 介绍"
   ]
  },
  {
   "cell_type": "markdown",
   "id": "4720425c",
   "metadata": {},
   "source": [
    "> https://www.runoob.com/python3/python-urllib.html"
   ]
  },
  {
   "cell_type": "markdown",
   "id": "5f6d34d3",
   "metadata": {},
   "source": [
    "**模块**\n",
    "\n",
    "- urllib.request - 打开和读取 URL。\n",
    "- urllib.error - 包含 urllib.request 抛出的异常。\n",
    "- urllib.parse - 解析 URL。\n",
    "- urllib.robotparser - 解析 robots.txt 文件。"
   ]
  },
  {
   "attachments": {
    "image.png": {
     "image/png": "[encoded data removed]"
    }
   },
   "cell_type": "markdown",
   "id": "ff42eebd",
   "metadata": {},
   "source": [
    "![image.png](attachment:image.png)"
   ]
  },
  {
   "cell_type": "markdown",
   "id": "bf3108a7",
   "metadata": {},
   "source": [
    "## 2. urllib.request"
   ]
  },
  {
   "cell_type": "markdown",
   "id": "f70c58d1",
   "metadata": {},
   "source": [
    "- urllib.request 定义了一些打开 URL 的函数和类，包含授权验证、重定向、浏览器 cookies等。\n",
    "- urllib.request 可以模拟浏览器的一个请求发起过程。\n",
    "- 打开模拟浏览器打开URL\n",
    "\n",
    "```python\n",
    "urllib.request.urlopen(url, data=None, [timeout, ]*, cafile=None, capath=None, cadefault=False, context=None)\n",
    "```\n",
    "    - url：url 地址。\n",
    "    - data：发送到服务器的其他数据对象，默认为 None。\n",
    "    - timeout：设置访问超时时间。\n",
    "    - cafile 和 capath：cafile 为 CA 证书， capath 为 CA 证书的路径，使用 HTTPS 需要用到。\n",
    "    - cadefault：已经被弃用。\n",
    "    - context：ssl.SSLContext类型，用来指定 SSL 设置。"
   ]
  },
  {
   "cell_type": "code",
   "execution_count": null,
   "id": "3cd084ef",
   "metadata": {},
   "outputs": [],
   "source": [
    "from urllib.request import urlopen\n",
    "\n",
    "myURL = urlopen(\"https://www.runoob.com/\")\n",
    "print(myURL.read())"
   ]
  },
  {
   "cell_type": "markdown",
   "id": "6b2fe13d",
   "metadata": {},
   "source": [
    "### 读取网页内容"
   ]
  },
  {
   "cell_type": "markdown",
   "id": "c04bd0fd",
   "metadata": {},
   "source": [
    "- read() 函数获取网页的 HTML 实体代码。read() 是读取整个网页内容，我们可以指定读取的长度"
   ]
  },
  {
   "cell_type": "code",
   "execution_count": null,
   "id": "690172e4",
   "metadata": {},
   "outputs": [],
   "source": [
    "myURL = urlopen(\"https://www.runoob.com/\")\n",
    "print(myURL.read(300))"
   ]
  },
  {
   "cell_type": "markdown",
   "id": "a14aaedf",
   "metadata": {},
   "source": [
    "- readline() - 读取文件的一行内容"
   ]
  },
  {
   "cell_type": "code",
   "execution_count": null,
   "id": "7bd6ccaa",
   "metadata": {},
   "outputs": [],
   "source": [
    "myURL = urlopen(\"https://www.runoob.com/\")\n",
    "print(myURL.readline()) #读取一行内容"
   ]
  },
  {
   "cell_type": "markdown",
   "id": "8df9f934",
   "metadata": {},
   "source": [
    "- readlines() - 读取文件的全部内容，它会把读取的内容赋值给一个列表变量。"
   ]
  },
  {
   "cell_type": "code",
   "execution_count": null,
   "id": "a11b00a6",
   "metadata": {},
   "outputs": [],
   "source": [
    "myURL = urlopen(\"https://www.runoob.com/\")\n",
    "lines = myURL.readlines()\n",
    "for line in lines:\n",
    "    print(line) "
   ]
  },
  {
   "cell_type": "markdown",
   "id": "151b9b69",
   "metadata": {},
   "source": [
    "### 参数分析"
   ]
  },
  {
   "cell_type": "markdown",
   "id": "18d0ea91",
   "metadata": {},
   "source": [
    "- 判断网页是否可以正常访问：getcode() 函数获取网页状态码，返回 200 说明网页正常，返回 404 说明网页不存在"
   ]
  },
  {
   "cell_type": "code",
   "execution_count": null,
   "id": "9d2bb4b7",
   "metadata": {},
   "outputs": [],
   "source": [
    "import urllib.request\n",
    "\n",
    "myURL1 = urllib.request.urlopen(\"https://www.runoob.com/\")\n",
    "print(myURL1.getcode())   # 200\n",
    "\n",
    "try:\n",
    "    myURL2 = urllib.request.urlopen(\"https://www.runoob.com/no.html\")\n",
    "except urllib.error.HTTPError as e:\n",
    "    if e.code == 404:\n",
    "        print(404)   # 404"
   ]
  },
  {
   "cell_type": "markdown",
   "id": "3b1031ac",
   "metadata": {},
   "source": [
    "- 抓取的网页保存到本地，可以使用 Python3 File write() 方法函数：生成一个 runoob_urllib_test.html 文件，里面包含了 https://www.runoob.com/ 网页的内容。"
   ]
  },
  {
   "cell_type": "code",
   "execution_count": null,
   "id": "9a9f1f41",
   "metadata": {},
   "outputs": [],
   "source": [
    "from urllib.request import urlopen\n",
    "\n",
    "myURL = urlopen(\"https://www.runoob.com/\")\n",
    "f = open(\"runoob_urllib_test.html\", \"wb\")\n",
    "content = myURL.read()  # 读取网页内容\n",
    "f.write(content)\n",
    "f.close()"
   ]
  },
  {
   "cell_type": "markdown",
   "id": "d05424f0",
   "metadata": {},
   "source": [
    "- URL 的编码与解码可以使用 urllib.request.quote() 与 urllib.request.unquote() 方法"
   ]
  },
  {
   "cell_type": "code",
   "execution_count": null,
   "id": "45f80b16",
   "metadata": {},
   "outputs": [],
   "source": [
    "import urllib.request\n",
    "\n",
    "encode_url = urllib.request.quote(\"https://www.runoob.com/\")  # 编码\n",
    "print(encode_url)\n",
    "\n",
    "unencode_url = urllib.request.unquote(encode_url)    # 解码\n",
    "print(unencode_url)"
   ]
  },
  {
   "cell_type": "markdown",
   "id": "aff5b087",
   "metadata": {},
   "source": [
    "### 模拟头部信息"
   ]
  },
  {
   "cell_type": "code",
   "execution_count": null,
   "id": "bcc9cf0a",
   "metadata": {},
   "outputs": [],
   "source": [
    "class urllib.request.Request(url, data=None, headers={}, origin_req_host=None, unverifiable=False, method=None)"
   ]
  },
  {
   "cell_type": "markdown",
   "id": "51b391ae",
   "metadata": {},
   "source": [
    "- url：url 地址。\n",
    "- data：发送到服务器的其他数据对象，默认为 None。\n",
    "- headers：HTTP 请求的头部信息，字典格式。\n",
    "- origin_req_host：请求的主机地址，IP 或域名。\n",
    "- unverifiable：很少用整个参数，用于设置网页是否需要验证，默认是False。。\n",
    "- method：请求方法， 如 GET、POST、DELETE、PUT等。"
   ]
  }
 ],
 "metadata": {
  "kernelspec": {
   "display_name": "Python 3",
   "language": "python",
   "name": "python3"
  },
  "language_info": {
   "codemirror_mode": {
    "name": "ipython",
    "version": 3
   },
   "file_extension": ".py",
   "mimetype": "text/x-python",
   "name": "python",
   "nbconvert_exporter": "python",
   "pygments_lexer": "ipython3",
   "version": "3.8.8"
  }
 },
 "nbformat": 4,
 "nbformat_minor": 5
}
